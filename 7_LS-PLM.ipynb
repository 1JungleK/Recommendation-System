{
 "cells": [
  {
   "cell_type": "markdown",
   "id": "6add50c0",
   "metadata": {},
   "source": [
    "LS-PLM,又被称为MLR(Mixed Logistic Regression,混合逻辑回归)模型。本质上,LS-PLM可以看作对逻辑回归的自然推广,它在逻辑回归的基础上采用分而治之的思路,先对样本进行分片,再在样本分片中应用逻辑回归进行 CTR预估。\n",
    "\n",
    "在逻辑回归的基础上加入聚类的思想,其灵感来自对广告推荐领 域样本特点的观察。举例来说,如果 CTR 模型要预估的是女性受众点击女装广告的 CTR,那么显然,我们不希望把男性用户点击数码类产品的样本数据也考虑进来,因为这样的样本不仅与女性购买女装的广告场景毫无相关性,甚至会在模型训练过程中扰乱相关特征的权重。\n",
    "\n",
    "***为了让 CTR 模型对不同用户群体、不同使用场景更有针对性,其采用的方法是先对全量样本进行聚类,再对每个分类施以逻辑回归模型进行CTR预估。***"
   ]
  },
  {
   "cell_type": "markdown",
   "id": "4fbcb5b5",
   "metadata": {},
   "source": [
    "$$f(x) = \\sum_{i=1}^m \\pi_i(x) \\cdot \\eta_i(x) = \\sum_{i=1}^m \\left( \\frac{e^{\\mu_i x}}{\\sum_{j=1}^m e^{\\mu_j x}} \\right) \\cdot \\left( \\frac{1}{1 + e^{-\\nu_i x}} \\right)$$\n",
    "\n",
    "\n"
   ]
  },
  {
   "cell_type": "markdown",
   "id": "e402f3ca",
   "metadata": {},
   "source": [
    "其中，第一部分代表某一样本属于各个类的概率，第二部分代表模型在该类进行局部Logistic回归得出的结果。"
   ]
  },
  {
   "cell_type": "markdown",
   "id": "e33c4908",
   "metadata": {},
   "source": [
    "分片归属计算\n",
    "\n",
    "1. 门限权重\n",
    "每个分片 $i$ 有独立的参数向量 $\\mu_i$。\n",
    "\n",
    "2. 分片得分\n",
    "样本 $x$ 在第 $i$ 个分片的得分：\n",
    "$$\n",
    "g_i(x) = e^{\\mu_i \\cdot x}\n",
    "$$\n",
    "\n",
    "3. 软分配概率\n",
    "通过Softmax归一化：\n",
    "$$\n",
    "p_i(x) = \\frac{g_i(x)}{\\sum_{j=1}^m g_j(x)} = \\frac{e^{\\mu_i \\cdot x}}{\\sum_{j=1}^m e^{\\mu_j \\cdot x}}\n",
    "$$\n",
    "\n",
    "4. 物理意义\n",
    "- $p_i(x)$ 表示样本 $x$ 属于分片 $i$ 的概率\n",
    "- 所有分片的概率和为1：$\\sum_{i=1}^m p_i(x) = 1$"
   ]
  },
  {
   "cell_type": "markdown",
   "id": "df17e0e9",
   "metadata": {},
   "source": [
    "`L1范数比L2范数更容易产生稀疏解` （角点效应）\n",
    "\n",
    "模型具有较高的稀疏度,使模型的部署更加轻量级。模型服务过程仅需使用权重非零特征,因此稀疏模型也使其在线推断的效率更高。"
   ]
  }
 ],
 "metadata": {
  "language_info": {
   "name": "python"
  }
 },
 "nbformat": 4,
 "nbformat_minor": 5
}
