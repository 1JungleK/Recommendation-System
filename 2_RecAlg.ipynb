{
 "cells": [
  {
   "cell_type": "markdown",
   "id": "78ce3b37",
   "metadata": {},
   "source": [
    "推荐算法\n",
    "- 推荐模型构建流程\n",
    "- 推荐算法概述\n",
    "- 基于协同过滤算法\n",
    "- 协同过滤实现"
   ]
  },
  {
   "cell_type": "markdown",
   "id": "6290279a",
   "metadata": {},
   "source": [
    "推荐算法构建流程\n",
    "- 数据采集\n",
    "- 数据清洗\n",
    "- 特征工程\n",
    "- ML算法\n",
    "- 推理\n",
    "- 评估"
   ]
  },
  {
   "cell_type": "markdown",
   "id": "7f6e330d",
   "metadata": {},
   "source": [
    "1. 数据采集\n",
    "- 显性数据\n",
    "    - 打分\n",
    "    - 评论\n",
    "- 隐性数据\n",
    "    - 历史订单\n",
    "    - 购物车\n",
    "    - 浏览记录\n",
    "    - 点击\n",
    "    - 搜索记录\n",
    "\n",
    "2. 特征工程\n",
    "- 协同过滤： User-Item Matrix\n",
    "- 基于内容： 分词、embedding\n",
    "\n",
    "3. 训练模型\n",
    "- 协同过滤\n",
    "    - KNN\n",
    "    - 矩阵分解\n",
    "4. 评估、上线\n",
    "\n",
    " "
   ]
  },
  {
   "cell_type": "markdown",
   "id": "53be89b1",
   "metadata": {},
   "source": [
    "经典推荐算法： 协同过滤 Collaborative Filtering\n",
    "\n",
    "基于以下假设：\n",
    "- 跟你喜好相似的人喜欢的东西，你也可能喜欢 （User-based CF）\n",
    "- 跟你喜欢的东西相似的东西，你也可能喜欢   （Item-based CF）\n",
    "\n",
    "实现协同过滤步骤：\n",
    "1. 找出最相似的人或物品\n",
    "2. 根据最相似的人或物品产生推荐结果 （初始推荐结果）\n",
    "3. 过滤掉原本就为某用户推荐的物品\n",
    "\n",
    "- User-based CF\n",
    "    - 给用户A找到最相似的N个用户\n",
    "    - N个用户消费过哪些产品\n",
    "    - N个用户消费过的产品 - A用户消费过的就是推荐结果\n",
    "\n",
    "- Item-based CF\n",
    "    - 给产品1找到组相似的N个产品\n",
    "    - 某用户消费过的产品中将每个产品都扩展为最相似的N个产品\n",
    "    - 过滤、去重就是推荐结果"
   ]
  },
  {
   "cell_type": "markdown",
   "id": "73678fe0",
   "metadata": {},
   "source": [
    "相似度计算\n",
    "- 相似度计算\n",
    "    - 实数值问题\n",
    "    - 布尔值问题\n",
    "\n",
    "- 欧氏距离\n",
    "- 余弦相似度\n",
    "$$ cos\\theta = \\frac{\\textbf{ab}}{|\\textbf{a}| |\\textbf{b}|}$$\n",
    "\n",
    "- 皮尔逊相关系数 Pearson's Correlation\n",
    "    - 特征向量去中心化版本的余弦相似度\n",
    "    - 皮尔逊相关系数衡量两个变量$X$和$Y$之间的线性相关性，其定义为：\n",
    "\n",
    "$$ \\rho_{X,Y} = \\frac{\\text{cov}(X,Y)}{\\sigma_X \\sigma_Y} = \\frac{\\sum_{i=1}^n (x_i - \\bar{x})(y_i - \\bar{y})}{\\sqrt{\\sum_{i=1}^n (x_i - \\bar{x})^2} \\sqrt{\\sum_{i=1}^n (y_i - \\bar{y})^2}} $$\n",
    "\n",
    "\n",
    "- 杰卡德相似度 Jaccard coefficient\n",
    "    - 交并比\n",
    "    - 适合处理布尔值问题"
   ]
  }
 ],
 "metadata": {
  "language_info": {
   "name": "python"
  }
 },
 "nbformat": 4,
 "nbformat_minor": 5
}
