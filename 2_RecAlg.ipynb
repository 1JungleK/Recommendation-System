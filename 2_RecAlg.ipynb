{
 "cells": [
  {
   "cell_type": "markdown",
   "id": "78ce3b37",
   "metadata": {},
   "source": [
    "推荐算法\n",
    "- 推荐模型构建流程\n",
    "- 推荐算法概述\n",
    "- 基于协同过滤算法\n",
    "- 协同过滤实现"
   ]
  },
  {
   "cell_type": "markdown",
   "id": "6290279a",
   "metadata": {},
   "source": [
    "推荐算法构建流程\n",
    "- 数据采集\n",
    "- 数据清洗\n",
    "- 特征工程\n",
    "- ML算法\n",
    "- 推理\n",
    "- 评估"
   ]
  },
  {
   "cell_type": "markdown",
   "id": "7f6e330d",
   "metadata": {},
   "source": [
    "1. 数据采集\n",
    "- 显性数据\n",
    "    - 打分\n",
    "    - 评论\n",
    "- 隐性数据\n",
    "    - 历史订单\n",
    "    - 购物车\n",
    "    - 浏览记录\n",
    "    - 点击\n",
    "    - 搜索记录\n",
    "\n",
    "2. 特征工程\n",
    "- 协同过滤： User-Item Matrix\n",
    "- 基于内容： 分词、embedding\n",
    "\n",
    "3. 训练模型\n",
    "- 协同过滤\n",
    "    - KNN\n",
    "    - 矩阵分解\n",
    "4. 评估、上线\n",
    "\n",
    " "
   ]
  },
  {
   "cell_type": "markdown",
   "id": "53be89b1",
   "metadata": {},
   "source": [
    "经典推荐算法： 协同过滤 Collaborative Filtering\n",
    "\n",
    "基于以下假设：\n",
    "- 跟你喜好相似的人喜欢的东西，你也可能喜欢 （User-based CF）\n",
    "- 跟你喜欢的东西相似的东西，你也可能喜欢   （Item-based CF）\n",
    "\n",
    "实现协同过滤步骤：\n",
    "1. 找出最相似的人或物品\n",
    "2. 根据最相似的人或物品产生推荐结果 （初始推荐结果）\n",
    "3. 过滤掉原本就为某用户推荐的物品\n",
    "\n",
    "- User-based CF\n",
    "    - 给用户A找到最相似的N个用户\n",
    "    - N个用户消费过哪些产品\n",
    "    - N个用户消费过的产品 - A用户消费过的就是推荐结果\n",
    "\n",
    "- Item-based CF\n",
    "    - 给产品1找到组相似的N个产品\n",
    "    - 某用户消费过的产品中将每个产品都扩展为最相似的N个产品\n",
    "    - 过滤、去重就是推荐结果"
   ]
  },
  {
   "cell_type": "markdown",
   "id": "73678fe0",
   "metadata": {},
   "source": [
    "相似度计算\n",
    "- 相似度计算\n",
    "    - 实数值问题\n",
    "    - 布尔值问题\n",
    "\n",
    "- 欧氏距离\n",
    "- 余弦相似度\n",
    "$$ cos\\theta = \\frac{\\textbf{ab}}{|\\textbf{a}| |\\textbf{b}|}$$\n",
    "\n",
    "- 皮尔逊相关系数 Pearson's Correlation\n",
    "    - 特征向量去中心化版本的余弦相似度\n",
    "    - 皮尔逊相关系数衡量两个变量$X$和$Y$之间的线性相关性，其定义为：\n",
    "\n",
    "$$ \\rho_{X,Y} = \\frac{\\text{cov}(X,Y)}{\\sigma_X \\sigma_Y} = \\frac{\\sum_{i=1}^n (x_i - \\bar{x})(y_i - \\bar{y})}{\\sqrt{\\sum_{i=1}^n (x_i - \\bar{x})^2} \\sqrt{\\sum_{i=1}^n (y_i - \\bar{y})^2}} $$\n",
    "\n",
    "\n",
    "- 杰卡德相似度 Jaccard coefficient\n",
    "    - 交并比\n",
    "    - 适合处理布尔值问题"
   ]
  },
  {
   "cell_type": "code",
   "execution_count": 14,
   "id": "a1642435",
   "metadata": {},
   "outputs": [
    {
     "name": "stdout",
     "output_type": "stream",
     "text": [
      "       ItemA  ItemB  ItemC  ItemD  ItemE\n",
      "User1      1      0      1      1      0\n",
      "User2      1      0      0      1      1\n",
      "User3      1      0      1      0      0\n",
      "User4      0      1      0      1      1\n",
      "User5      1      1      1      0      1\n"
     ]
    }
   ],
   "source": [
    "import pandas as pd\n",
    "\n",
    "users = [\"User1\", \"User2\", \"User3\", \"User4\", \"User5\"]\n",
    "items = [\"ItemA\", \"ItemB\", \"ItemC\", \"ItemD\", \"ItemE\"]\n",
    "\n",
    "# 用户购买记录\n",
    "dataset = [\n",
    "    [1, 0, 1, 1, 0],\n",
    "    [1, 0, 0, 1, 1],\n",
    "    [1, 0, 1, 0, 0],\n",
    "    [0, 1, 0, 1, 1],\n",
    "    [1, 1, 1, 0, 1]\n",
    "]\n",
    "\n",
    "df = pd.DataFrame(dataset, columns=items, index=users)\n",
    "X = df.values\n",
    "print(df)"
   ]
  },
  {
   "cell_type": "code",
   "execution_count": 17,
   "id": "b63786d1",
   "metadata": {},
   "outputs": [
    {
     "data": {
      "text/plain": [
       "np.float64(0.2)"
      ]
     },
     "execution_count": 17,
     "metadata": {},
     "output_type": "execute_result"
    }
   ],
   "source": [
    "from sklearn.metrics import jaccard_score\n",
    "\n",
    "jaccard_score(df[\"ItemA\"], df[\"ItemB\"])"
   ]
  },
  {
   "cell_type": "code",
   "execution_count": null,
   "id": "dce467f7",
   "metadata": {},
   "outputs": [
    {
     "name": "stderr",
     "output_type": "stream",
     "text": [
      "/opt/anaconda3/envs/recommender/lib/python3.12/site-packages/sklearn/metrics/pairwise.py:2466: DataConversionWarning: Data was converted to boolean for metric jaccard\n",
      "  warnings.warn(msg, DataConversionWarning)\n"
     ]
    }
   ],
   "source": [
    "from sklearn.metrics.pairwise import pairwise_distances\n",
    "\n",
    "user_similiarity = 1 - pairwise_distances(X, metric='jaccard')\n",
    "\n",
    "user_similiarity = pd.DataFrame(user_similiarity, columns=users, index=users)"
   ]
  },
  {
   "cell_type": "code",
   "execution_count": 20,
   "id": "85f4679e",
   "metadata": {},
   "outputs": [
    {
     "data": {
      "text/html": [
       "<div>\n",
       "<style scoped>\n",
       "    .dataframe tbody tr th:only-of-type {\n",
       "        vertical-align: middle;\n",
       "    }\n",
       "\n",
       "    .dataframe tbody tr th {\n",
       "        vertical-align: top;\n",
       "    }\n",
       "\n",
       "    .dataframe thead th {\n",
       "        text-align: right;\n",
       "    }\n",
       "</style>\n",
       "<table border=\"1\" class=\"dataframe\">\n",
       "  <thead>\n",
       "    <tr style=\"text-align: right;\">\n",
       "      <th></th>\n",
       "      <th>User1</th>\n",
       "      <th>User2</th>\n",
       "      <th>User3</th>\n",
       "      <th>User4</th>\n",
       "      <th>User5</th>\n",
       "    </tr>\n",
       "  </thead>\n",
       "  <tbody>\n",
       "    <tr>\n",
       "      <th>User1</th>\n",
       "      <td>1.000000</td>\n",
       "      <td>0.50</td>\n",
       "      <td>0.666667</td>\n",
       "      <td>0.2</td>\n",
       "      <td>0.4</td>\n",
       "    </tr>\n",
       "    <tr>\n",
       "      <th>User2</th>\n",
       "      <td>0.500000</td>\n",
       "      <td>1.00</td>\n",
       "      <td>0.250000</td>\n",
       "      <td>0.5</td>\n",
       "      <td>0.4</td>\n",
       "    </tr>\n",
       "    <tr>\n",
       "      <th>User3</th>\n",
       "      <td>0.666667</td>\n",
       "      <td>0.25</td>\n",
       "      <td>1.000000</td>\n",
       "      <td>0.0</td>\n",
       "      <td>0.5</td>\n",
       "    </tr>\n",
       "    <tr>\n",
       "      <th>User4</th>\n",
       "      <td>0.200000</td>\n",
       "      <td>0.50</td>\n",
       "      <td>0.000000</td>\n",
       "      <td>1.0</td>\n",
       "      <td>0.4</td>\n",
       "    </tr>\n",
       "    <tr>\n",
       "      <th>User5</th>\n",
       "      <td>0.400000</td>\n",
       "      <td>0.40</td>\n",
       "      <td>0.500000</td>\n",
       "      <td>0.4</td>\n",
       "      <td>1.0</td>\n",
       "    </tr>\n",
       "  </tbody>\n",
       "</table>\n",
       "</div>"
      ],
      "text/plain": [
       "          User1  User2     User3  User4  User5\n",
       "User1  1.000000   0.50  0.666667    0.2    0.4\n",
       "User2  0.500000   1.00  0.250000    0.5    0.4\n",
       "User3  0.666667   0.25  1.000000    0.0    0.5\n",
       "User4  0.200000   0.50  0.000000    1.0    0.4\n",
       "User5  0.400000   0.40  0.500000    0.4    1.0"
      ]
     },
     "execution_count": 20,
     "metadata": {},
     "output_type": "execute_result"
    }
   ],
   "source": [
    "user_similiarity"
   ]
  },
  {
   "cell_type": "code",
   "execution_count": 23,
   "id": "eb128b82",
   "metadata": {},
   "outputs": [
    {
     "name": "stderr",
     "output_type": "stream",
     "text": [
      "/opt/anaconda3/envs/recommender/lib/python3.12/site-packages/sklearn/metrics/pairwise.py:2466: DataConversionWarning: Data was converted to boolean for metric jaccard\n",
      "  warnings.warn(msg, DataConversionWarning)\n"
     ]
    }
   ],
   "source": [
    "item_similarity = 1 - pairwise_distances(X.T, metric='jaccard')\n",
    "item_similarity = pd.DataFrame(item_similarity, columns=items, index=items)"
   ]
  },
  {
   "cell_type": "code",
   "execution_count": 24,
   "id": "af3f91fb",
   "metadata": {},
   "outputs": [
    {
     "data": {
      "text/html": [
       "<div>\n",
       "<style scoped>\n",
       "    .dataframe tbody tr th:only-of-type {\n",
       "        vertical-align: middle;\n",
       "    }\n",
       "\n",
       "    .dataframe tbody tr th {\n",
       "        vertical-align: top;\n",
       "    }\n",
       "\n",
       "    .dataframe thead th {\n",
       "        text-align: right;\n",
       "    }\n",
       "</style>\n",
       "<table border=\"1\" class=\"dataframe\">\n",
       "  <thead>\n",
       "    <tr style=\"text-align: right;\">\n",
       "      <th></th>\n",
       "      <th>ItemA</th>\n",
       "      <th>ItemB</th>\n",
       "      <th>ItemC</th>\n",
       "      <th>ItemD</th>\n",
       "      <th>ItemE</th>\n",
       "    </tr>\n",
       "  </thead>\n",
       "  <tbody>\n",
       "    <tr>\n",
       "      <th>ItemA</th>\n",
       "      <td>1.00</td>\n",
       "      <td>0.200000</td>\n",
       "      <td>0.75</td>\n",
       "      <td>0.40</td>\n",
       "      <td>0.400000</td>\n",
       "    </tr>\n",
       "    <tr>\n",
       "      <th>ItemB</th>\n",
       "      <td>0.20</td>\n",
       "      <td>1.000000</td>\n",
       "      <td>0.25</td>\n",
       "      <td>0.25</td>\n",
       "      <td>0.666667</td>\n",
       "    </tr>\n",
       "    <tr>\n",
       "      <th>ItemC</th>\n",
       "      <td>0.75</td>\n",
       "      <td>0.250000</td>\n",
       "      <td>1.00</td>\n",
       "      <td>0.20</td>\n",
       "      <td>0.200000</td>\n",
       "    </tr>\n",
       "    <tr>\n",
       "      <th>ItemD</th>\n",
       "      <td>0.40</td>\n",
       "      <td>0.250000</td>\n",
       "      <td>0.20</td>\n",
       "      <td>1.00</td>\n",
       "      <td>0.500000</td>\n",
       "    </tr>\n",
       "    <tr>\n",
       "      <th>ItemE</th>\n",
       "      <td>0.40</td>\n",
       "      <td>0.666667</td>\n",
       "      <td>0.20</td>\n",
       "      <td>0.50</td>\n",
       "      <td>1.000000</td>\n",
       "    </tr>\n",
       "  </tbody>\n",
       "</table>\n",
       "</div>"
      ],
      "text/plain": [
       "       ItemA     ItemB  ItemC  ItemD     ItemE\n",
       "ItemA   1.00  0.200000   0.75   0.40  0.400000\n",
       "ItemB   0.20  1.000000   0.25   0.25  0.666667\n",
       "ItemC   0.75  0.250000   1.00   0.20  0.200000\n",
       "ItemD   0.40  0.250000   0.20   1.00  0.500000\n",
       "ItemE   0.40  0.666667   0.20   0.50  1.000000"
      ]
     },
     "execution_count": 24,
     "metadata": {},
     "output_type": "execute_result"
    }
   ],
   "source": [
    "item_similarity"
   ]
  },
  {
   "cell_type": "code",
   "execution_count": 45,
   "id": "97c5c650",
   "metadata": {},
   "outputs": [],
   "source": [
    "topN_users = {}\n",
    "\n",
    "for i in user_similiarity.index:\n",
    "    # 取出每一列数据， 删除自己\n",
    "    _df = user_similiarity.loc[i].drop([i])\n",
    "\n",
    "    # 排序\n",
    "    _df_sorted = _df.sort_values(ascending=False)\n",
    "\n",
    "    #挑出最相似的两个\n",
    "    top2 = list(_df_sorted.index[:2])\n",
    "    topN_users[i] = top2"
   ]
  },
  {
   "cell_type": "code",
   "execution_count": 46,
   "id": "6c5c284c",
   "metadata": {},
   "outputs": [
    {
     "data": {
      "text/plain": [
       "{'User1': ['User3', 'User2'],\n",
       " 'User2': ['User1', 'User4'],\n",
       " 'User3': ['User1', 'User5'],\n",
       " 'User4': ['User2', 'User5'],\n",
       " 'User5': ['User3', 'User1']}"
      ]
     },
     "execution_count": 46,
     "metadata": {},
     "output_type": "execute_result"
    }
   ],
   "source": [
    "topN_users"
   ]
  },
  {
   "cell_type": "code",
   "execution_count": 47,
   "id": "76303ae0",
   "metadata": {},
   "outputs": [],
   "source": [
    "import numpy as np\n",
    "\n",
    "# 构建推荐结果\n",
    "rs_results = {}\n",
    "\n",
    "for user, sim_users in topN_users.items():\n",
    "    rs_result = set() # 为每一个用户保存推荐结果\n",
    "    for sim_user in sim_users:\n",
    "        rs_result = rs_result.union(set(df.loc[sim_user].replace(0, np.nan).dropna().index))\n",
    "\n",
    "    # 过滤已经购买的商品\n",
    "    rs_result -= set(df.loc[user].replace(0, np.nan).dropna().index)\n",
    "    rs_results[user] = rs_result"
   ]
  },
  {
   "cell_type": "code",
   "execution_count": 43,
   "id": "0c123666",
   "metadata": {},
   "outputs": [
    {
     "data": {
      "text/plain": [
       "{'User1': {'ItemE'},\n",
       " 'User2': {'ItemB', 'ItemC'},\n",
       " 'User3': {'ItemB', 'ItemD', 'ItemE'},\n",
       " 'User4': {'ItemA', 'ItemC'},\n",
       " 'User5': {'ItemD'}}"
      ]
     },
     "execution_count": 43,
     "metadata": {},
     "output_type": "execute_result"
    }
   ],
   "source": [
    "rs_results"
   ]
  },
  {
   "cell_type": "markdown",
   "id": "f4edf1a8",
   "metadata": {},
   "source": [
    "协同过滤是一个非常直观、可解释性很强的模型,但它并不具备 较强的泛化能力,换句话说,协同过滤无法将两个物品相似这一信息 推广到其他物品的相似性计算上。这就导致了一个比较严重的问题 ——热门的物品具有很强的头部效应,容易跟大量物品产生相似性; 而尾部的物品由于特征向量稀疏,很少与其他物品产生相似性,导致 很少被推荐。"
   ]
  }
 ],
 "metadata": {
  "kernelspec": {
   "display_name": "recommender",
   "language": "python",
   "name": "python3"
  },
  "language_info": {
   "codemirror_mode": {
    "name": "ipython",
    "version": 3
   },
   "file_extension": ".py",
   "mimetype": "text/x-python",
   "name": "python",
   "nbconvert_exporter": "python",
   "pygments_lexer": "ipython3",
   "version": "3.12.9"
  }
 },
 "nbformat": 4,
 "nbformat_minor": 5
}
