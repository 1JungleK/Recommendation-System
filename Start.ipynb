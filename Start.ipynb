{
 "cells": [
  {
   "cell_type": "markdown",
   "id": "35ff8fd2",
   "metadata": {},
   "source": [
    "推荐系统 - 一种信息过滤系统 利用一定规则给物品排序 解决如下问题： \n",
    "- 是否构成信息过载      过载\n",
    "- 用户意图是否明确      不明确\n",
    "\n",
    "搜索引擎： 流量分布呈现出马太效应 目标是快速满足用户需求 评估指标简单 个性化弱   用户主动搜索 \\\n",
    "推荐系统： 流量分布呈现出长尾效应 目标是长时间持续服务   评估指标复杂 个性化较强 用户被动接受\n"
   ]
  },
  {
   "cell_type": "markdown",
   "id": "c86746ca",
   "metadata": {},
   "source": [
    "推荐系统工作原理\n",
    "- 社会化推荐\n",
    "- 基于内容推荐\n",
    "- 基于流行程度推荐\n",
    "- 基于协同过滤的推荐 （人与群分）\n",
    "\n",
    "Web项目和推荐系统的区别：\n",
    "Web项目： 提供稳定、支持高并发、可预测性的信息流通道服务 \\\n",
    "推荐系统： 追求增长指标（GMV、成交金额）结果是概率的结果"
   ]
  },
  {
   "cell_type": "markdown",
   "id": "04673cdf",
   "metadata": {},
   "source": [
    "推荐系统设计\n",
    "- UI\n",
    "- 数据（Lambda架构）\n",
    "- 业务知识\n",
    "- 算法\n",
    "\n",
    "推荐系统架构 \\\n",
    "Lambda架构采集数据 --> 推荐算法计算推荐结果 --> 用户服务 --> 用户行为反馈 --> Lambda架构数据"
   ]
  },
  {
   "cell_type": "markdown",
   "id": "4802aeef",
   "metadata": {},
   "source": [
    "大数据Lambda架构：（Batch Layer、Speed Layer、Serving Layer）使用离线和实时数据混合提供服务 \\\n",
    "\n",
    "- 分层架构\n",
    "    - 批处理层 （离线数据） 数据量大、处理速度慢\n",
    "        - 分布式存储 Hadoop distributive file system\n",
    "        - 分布式计算 Hadoop MapReduce & spark\n",
    "        - 存储\n",
    "        - 日志收集 Flume 数据搬运\n",
    "    - 实时处理层  响应速度快 （ms级别响应） 数据量小\n",
    "        - 流式计算\n",
    "        - 实时数据分析 spark streaming / storm / flink\n",
    "        - 消息队列 kafka"
   ]
  },
  {
   "cell_type": "markdown",
   "id": "00bf515c",
   "metadata": {},
   "source": [
    "离线计算的框架\n",
    "- hadoop 作为批处理层的核心计算框架，处理全量历史数据\n",
    "    - 使用HDFS存储所有原始数据\n",
    "    - 通过MapReduce进行大规模数据的批量处理\n",
    "    - 处理后的结果存储在服务层供查询\n",
    "- spark core 替代或补充Hadoop MapReduce，提供更快的批处理能力\n",
    "- spark sql 在批处理层提供SQL接口处理结构化数据\n",
    "- hive 数据仓库工具，用于批处理层的数据管理和查询，将处理结果输出到服务层存储\n",
    "\n",
    "实时计算框架\n",
    "- spark streaming 处理实时数据流，提供近实时的计算结果\n",
    "- storm\n",
    "- flink\n",
    "\n",
    "消息中间件\n",
    "- flume 日志采集系统 负责数据收集和传输\n",
    "    - 从各种数据源收集日志和事件数据\n",
    "    - 将数据传输到Kafka或其他存储系统\n",
    "    - 在Lambda架构中通常作为数据入口\n",
    "\n",
    "- kafka消息队列    \n",
    "    - 分布式消息队列，作为数据缓冲和分发中心\n",
    "    - 接收来自Flume等数据源的数据\n",
    "    - 为批处理层和速度层提供统一的数据源\n",
    "\n",
    "- 存储相关\n",
    "- hbase （nosql数据库）常用于服务层存储\n",
    "- hive  （sql操作hdfs数据）\n",
    "    - 存储结构化数据，提供SQL接口\n",
    "    - 管理数据仓库中的历史数据"
   ]
  },
  {
   "cell_type": "markdown",
   "id": "63a96c84",
   "metadata": {},
   "source": [
    "Lambda架构中各组件的协作流程\n",
    "\n",
    "- 数据摄入：\n",
    "\n",
    "    Flume收集日志/事件数据 → 发送到Kafka\n",
    "\n",
    "    其他数据源也可能直接写入Kafka或HDFS\n",
    "\n",
    "- 批处理层：\n",
    "\n",
    "    定期(如每天)将Kafka或原始数据加载到HDFS\n",
    "\n",
    "    使用Hadoop/Spark/Hive处理全量数据\n",
    "\n",
    "    计算结果写入HBase等服务层存储\n",
    "\n",
    "- 速度层：\n",
    "\n",
    "    Spark Streaming/Storm/Flink实时消费Kafka数据\n",
    "\n",
    "    处理最新数据，生成增量结果\n",
    "\n",
    "    将实时视图写入高速存储(如Redis)或HBase\n",
    "\n",
    "- 服务层：\n",
    "\n",
    "    合并批处理视图和实时视图\n",
    "\n",
    "    响应查询时，将批处理结果与实时更新合并\n",
    "\n",
    "    通过HBase或专用服务数据库提供查询接口\n",
    "\n",
    "- 数据流：\n",
    "    原始数据 → Kafka → 同时供给:\n",
    "\n",
    "    批处理层(Spark/Hadoop): 高延迟高准确度处理\n",
    "\n",
    "    速度层(Spark Streaming/Flink/Storm): 低延迟近似处理\n",
    "    结果合并 → 服务层 → 用户查询"
   ]
  }
 ],
 "metadata": {
  "language_info": {
   "name": "python"
  }
 },
 "nbformat": 4,
 "nbformat_minor": 5
}
